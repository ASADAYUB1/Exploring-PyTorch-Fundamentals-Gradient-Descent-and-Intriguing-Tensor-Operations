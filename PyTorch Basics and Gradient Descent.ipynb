{
 "cells": [
  {
   "cell_type": "markdown",
   "id": "e59fffe9",
   "metadata": {},
   "source": [
    "# PyTorch Basics and Gradient Descent"
   ]
  },
  {
   "cell_type": "markdown",
   "id": "0dcab215",
   "metadata": {},
   "source": [
    "## PyTorch Basics: Tensors and Gradients "
   ]
  },
  {
   "cell_type": "markdown",
   "id": "8ba64772",
   "metadata": {},
   "source": [
    "PyTorch is a Python-Python based scientific computing pakage. It's mainly used for applications such as computer vision and natural language processing. The flexibility of PyTorch allow easy integration of new data types and algorithms, and the framework is also efficient and scalable. It was designed to minimize the number of compuations required and to be compatible with a variety of hardware architectures. Two broad purpose of PyTorch are:\n",
    "\n",
    "* A replacement for NumPy to use the power of GPUs and other accelerators.\n",
    "* An automatic differentiation library that is useful to implement neural networks.\n"
   ]
  },
  {
   "cell_type": "markdown",
   "id": "423cf9b8",
   "metadata": {},
   "source": [
    "### Tensors"
   ]
  },
  {
   "cell_type": "markdown",
   "id": "50740e7d",
   "metadata": {},
   "source": [
    "A tensor is a number, vector. matrix or any n-dimentional array. These are the fundamental data structures in deep learning, which are very similar to arrays and matrics, with which we can efficiently perform mathematical operations on large sets of data. A tensor can be represented as a matrix, but also as a vector, a scalar, or a higher- dimensional array. \n",
    "\n",
    "To make it easier to visualize, we can think of a tensor as simple array containing scalars or other arrays. On PyTorch, a tensor is a structure very similar to a **ndarry**, with the differnce that they are capable of running on a GPU, which dramatically speeds up the computational process. "
   ]
  },
  {
   "cell_type": "markdown",
   "id": "4b50821c",
   "metadata": {},
   "source": [
    "Let's create a tensor with a single number:"
   ]
  },
  {
   "cell_type": "code",
   "execution_count": 1,
   "id": "b197af2f",
   "metadata": {},
   "outputs": [],
   "source": [
    "import torch "
   ]
  },
  {
   "cell_type": "code",
   "execution_count": 2,
   "id": "bc6ef042",
   "metadata": {},
   "outputs": [
    {
     "data": {
      "text/plain": [
       "tensor(4.)"
      ]
     },
     "execution_count": 2,
     "metadata": {},
     "output_type": "execute_result"
    }
   ],
   "source": [
    "t1 = torch.tensor(4.)\n",
    "t1 "
   ]
  },
  {
   "cell_type": "markdown",
   "id": "b6243cf6",
   "metadata": {},
   "source": [
    "`4.` is a shorthand for `4.0`. It is used to indicate to PyTorch that we want to create a floating point number. We can verify it by checking the `dtype` attribte of our tensor."
   ]
  },
  {
   "cell_type": "code",
   "execution_count": 3,
   "id": "0c9a3cb2",
   "metadata": {},
   "outputs": [
    {
     "data": {
      "text/plain": [
       "torch.float32"
      ]
     },
     "execution_count": 3,
     "metadata": {},
     "output_type": "execute_result"
    }
   ],
   "source": [
    "t1.dtype"
   ]
  },
  {
   "cell_type": "markdown",
   "id": "b0037196",
   "metadata": {},
   "source": [
    "Let's create a slightly more compelx tensors:\n"
   ]
  },
  {
   "cell_type": "code",
   "execution_count": 4,
   "id": "bab13a02",
   "metadata": {},
   "outputs": [
    {
     "data": {
      "text/plain": [
       "tensor([1., 2., 3., 4.])"
      ]
     },
     "execution_count": 4,
     "metadata": {},
     "output_type": "execute_result"
    }
   ],
   "source": [
    "#Vector\n",
    "t2 = torch.tensor([1., 2, 3, 4 ])\n",
    "t2"
   ]
  },
  {
   "cell_type": "code",
   "execution_count": 5,
   "id": "e9fb3967",
   "metadata": {},
   "outputs": [
    {
     "data": {
      "text/plain": [
       "tensor([[ 5.,  6.],\n",
       "        [ 7.,  9.],\n",
       "        [ 9., 10.]])"
      ]
     },
     "execution_count": 5,
     "metadata": {},
     "output_type": "execute_result"
    }
   ],
   "source": [
    "#Matrix\n",
    "t3 = torch.tensor([[5., 6],\n",
    "                  [7, 9 ],\n",
    "                   [9, 10]\n",
    "                  ])\n",
    "t3"
   ]
  },
  {
   "cell_type": "code",
   "execution_count": 6,
   "id": "57fcd04a",
   "metadata": {},
   "outputs": [
    {
     "data": {
      "text/plain": [
       "tensor([[[11., 12., 13.],\n",
       "         [13., 14., 15.]],\n",
       "\n",
       "        [[15., 16., 17.],\n",
       "         [18., 17., 19.]]])"
      ]
     },
     "execution_count": 6,
     "metadata": {},
     "output_type": "execute_result"
    }
   ],
   "source": [
    "#3-dimentional array \n",
    "t4 = torch.tensor([[[11., 12, 13 ],\n",
    "                    [13, 14, 15]],\n",
    "                  [[15, 16, 17],\n",
    "                  [18, 17, 19]]\n",
    "                  ])\n",
    "t4"
   ]
  },
  {
   "cell_type": "markdown",
   "id": "88980ffc",
   "metadata": {},
   "source": [
    "Tensors can have any number of dimensions, and differnt lengths along each dimension. We can inspect the length along each dimension using the `.shape` property of a tensor."
   ]
  },
  {
   "cell_type": "code",
   "execution_count": 7,
   "id": "54e7ddd9",
   "metadata": {},
   "outputs": [
    {
     "name": "stdout",
     "output_type": "stream",
     "text": [
      "tensor(4.)\n"
     ]
    },
    {
     "data": {
      "text/plain": [
       "torch.Size([])"
      ]
     },
     "execution_count": 7,
     "metadata": {},
     "output_type": "execute_result"
    }
   ],
   "source": [
    "print(t1)\n",
    "t1.shape"
   ]
  },
  {
   "cell_type": "code",
   "execution_count": 8,
   "id": "ca82c018",
   "metadata": {},
   "outputs": [
    {
     "name": "stdout",
     "output_type": "stream",
     "text": [
      "tensor([1., 2., 3., 4.])\n"
     ]
    },
    {
     "data": {
      "text/plain": [
       "torch.Size([4])"
      ]
     },
     "execution_count": 8,
     "metadata": {},
     "output_type": "execute_result"
    }
   ],
   "source": [
    "print(t2)\n",
    "t2.shape"
   ]
  },
  {
   "cell_type": "code",
   "execution_count": 9,
   "id": "8abeeb66",
   "metadata": {},
   "outputs": [
    {
     "name": "stdout",
     "output_type": "stream",
     "text": [
      "tensor([[ 5.,  6.],\n",
      "        [ 7.,  9.],\n",
      "        [ 9., 10.]])\n"
     ]
    },
    {
     "data": {
      "text/plain": [
       "torch.Size([3, 2])"
      ]
     },
     "execution_count": 9,
     "metadata": {},
     "output_type": "execute_result"
    }
   ],
   "source": [
    "print(t3)\n",
    "t3.shape"
   ]
  },
  {
   "cell_type": "code",
   "execution_count": 10,
   "id": "c5d7b772",
   "metadata": {},
   "outputs": [
    {
     "name": "stdout",
     "output_type": "stream",
     "text": [
      "tensor([[[11., 12., 13.],\n",
      "         [13., 14., 15.]],\n",
      "\n",
      "        [[15., 16., 17.],\n",
      "         [18., 17., 19.]]])\n"
     ]
    },
    {
     "data": {
      "text/plain": [
       "torch.Size([2, 2, 3])"
      ]
     },
     "execution_count": 10,
     "metadata": {},
     "output_type": "execute_result"
    }
   ],
   "source": [
    "print(t4)\n",
    "t4.shape"
   ]
  },
  {
   "cell_type": "code",
   "execution_count": null,
   "id": "495ddb7e",
   "metadata": {},
   "outputs": [],
   "source": []
  },
  {
   "cell_type": "markdown",
   "id": "07a2a094",
   "metadata": {},
   "source": [
    "### Tensor operations and gradients"
   ]
  },
  {
   "cell_type": "markdown",
   "id": "85b75a9d",
   "metadata": {},
   "source": [
    "We can combine tensors with the usual arthemtic operations. Let's look an example:"
   ]
  },
  {
   "cell_type": "code",
   "execution_count": 11,
   "id": "e2145c7b",
   "metadata": {},
   "outputs": [
    {
     "data": {
      "text/plain": [
       "(tensor(3.), tensor(4., requires_grad=True), tensor(5., requires_grad=True))"
      ]
     },
     "execution_count": 11,
     "metadata": {},
     "output_type": "execute_result"
    }
   ],
   "source": [
    "# Create tensors,\n",
    "x = torch.tensor(3.)\n",
    "w = torch.tensor(4., requires_grad = True)\n",
    "b = torch.tensor(5., requires_grad = True)\n",
    "x, w, b"
   ]
  },
  {
   "cell_type": "markdown",
   "id": "fceeefeb",
   "metadata": {},
   "source": [
    "We have created 3 tensors `x`, `w`, and `b`, all numbers. `w` and `b`have an additional parameter `requires_grad` set to `True`.\n",
    "\n",
    "Let's create a new tensor `y` by combining these tensors:\n"
   ]
  },
  {
   "cell_type": "code",
   "execution_count": 12,
   "id": "34b1d345",
   "metadata": {},
   "outputs": [
    {
     "data": {
      "text/plain": [
       "tensor(17., grad_fn=<AddBackward0>)"
      ]
     },
     "execution_count": 12,
     "metadata": {},
     "output_type": "execute_result"
    }
   ],
   "source": [
    "# Arithmetic operations\n",
    "y = w * x + b\n",
    "y"
   ]
  },
  {
   "cell_type": "markdown",
   "id": "b44097db",
   "metadata": {},
   "source": [
    "As expected, `y` is a tensor with the value `17`. What makes PyTorch special is that we can automatically compute the derivative of `y` w.r.t the tensors that have `requires_grad` set to `True` i.e w and b. To compute the derivatives, we can call the `.backward` method on our result `y`. "
   ]
  },
  {
   "cell_type": "code",
   "execution_count": 13,
   "id": "51aa986a",
   "metadata": {},
   "outputs": [],
   "source": [
    "# Compute derivatives\n",
    "y.backward()"
   ]
  },
  {
   "cell_type": "markdown",
   "id": "673cd051",
   "metadata": {},
   "source": [
    "The derivates of `y` w.r.t the input tensor are stored in the `.grad` property of the respective tensors."
   ]
  },
  {
   "cell_type": "code",
   "execution_count": 14,
   "id": "7d341e2b",
   "metadata": {},
   "outputs": [
    {
     "name": "stdout",
     "output_type": "stream",
     "text": [
      "dy/dx: None\n",
      "dy/dw: tensor(3.)\n",
      "dy/db: tensor(1.)\n"
     ]
    }
   ],
   "source": [
    "# Display gradients\n",
    "print('dy/dx:', x.grad)\n",
    "print('dy/dw:', w.grad)\n",
    "print('dy/db:', b.grad)"
   ]
  },
  {
   "cell_type": "markdown",
   "id": "bd96b246",
   "metadata": {},
   "source": [
    "As expected, `dy/dw` has the same values as `x`i.e `3`. and `dy/db` has the value `1`. Note that `x.grad` is `None`, because `x` does not have `requires_grad` set to `True`.\n",
    "\n",
    "The \"grad\" in `w.grad` stands for gradient, which is another term for derivative, used mainly when dealing with matrices."
   ]
  },
  {
   "cell_type": "markdown",
   "id": "92af5696",
   "metadata": {},
   "source": [
    "### Interoperability with Numpy "
   ]
  },
  {
   "cell_type": "markdown",
   "id": "5f3a9af0",
   "metadata": {},
   "source": [
    "Numpy is a popular open source library used for mathematical and scientific computing in Python. It ensables efficient operations on large multi-dimensional arrays, and has a large ecosystem of suporting libraries:\n",
    "* Matplotlib for plotting and visualization \n",
    "* OpenCV for image and video processing \n",
    "* Pandas for file I/O and data analysis\n",
    "instead of reinventing the wheel, PyTorch interopertes really well with Numpy to leverage its existing ecosystem of tools and libraries.\n",
    "\n",
    "Here's how we create an array in Numpy:\n"
   ]
  },
  {
   "cell_type": "code",
   "execution_count": 15,
   "id": "32825d39",
   "metadata": {},
   "outputs": [],
   "source": [
    "import numpy as np "
   ]
  },
  {
   "cell_type": "code",
   "execution_count": 16,
   "id": "a1e33f08",
   "metadata": {},
   "outputs": [
    {
     "data": {
      "text/plain": [
       "array([[1., 2.],\n",
       "       [3., 4.]])"
      ]
     },
     "execution_count": 16,
     "metadata": {},
     "output_type": "execute_result"
    }
   ],
   "source": [
    "x = np.array([[1, 2], [3, 4.]])\n",
    "x"
   ]
  },
  {
   "cell_type": "markdown",
   "id": "ceccdda9",
   "metadata": {},
   "source": [
    "We can convert a Numpy array to a PyTorch tensor using `torch.from_numpy`."
   ]
  },
  {
   "cell_type": "code",
   "execution_count": 17,
   "id": "50f4540a",
   "metadata": {},
   "outputs": [
    {
     "data": {
      "text/plain": [
       "tensor([[1., 2.],\n",
       "        [3., 4.]], dtype=torch.float64)"
      ]
     },
     "execution_count": 17,
     "metadata": {},
     "output_type": "execute_result"
    }
   ],
   "source": [
    "# COnvert the numpy array to a torch tensor.\n",
    "y = torch.from_numpy(x)\n",
    "y"
   ]
  },
  {
   "cell_type": "markdown",
   "id": "4c359da5",
   "metadata": {},
   "source": [
    "Let's verify that the numpy array and torch tensor have similar data types."
   ]
  },
  {
   "cell_type": "code",
   "execution_count": 18,
   "id": "9d8524f4",
   "metadata": {},
   "outputs": [
    {
     "data": {
      "text/plain": [
       "(dtype('float64'), torch.float64)"
      ]
     },
     "execution_count": 18,
     "metadata": {},
     "output_type": "execute_result"
    }
   ],
   "source": [
    "x.dtype, y.dtype"
   ]
  },
  {
   "cell_type": "markdown",
   "id": "75034fc1",
   "metadata": {},
   "source": [
    "We can convert a PyTorch tensor to a Numpy array using the `.numpy` method of a tensor."
   ]
  },
  {
   "cell_type": "code",
   "execution_count": 19,
   "id": "ab94814b",
   "metadata": {},
   "outputs": [
    {
     "data": {
      "text/plain": [
       "array([[1., 2.],\n",
       "       [3., 4.]])"
      ]
     },
     "execution_count": 19,
     "metadata": {},
     "output_type": "execute_result"
    }
   ],
   "source": [
    "#Convert a torch tensor to a numpy array \n",
    "\n",
    "z = y.numpy()\n",
    "z"
   ]
  },
  {
   "cell_type": "markdown",
   "id": "24cb7fff",
   "metadata": {},
   "source": [
    "The interoperability between PyTorch and Numpy is really important because most datasets you'll work with will likely be read and preprocessed a Numpy arrays."
   ]
  },
  {
   "cell_type": "markdown",
   "id": "ccc38572",
   "metadata": {},
   "source": [
    "## Gradient Descent and Linear Regression with PyTorch "
   ]
  },
  {
   "cell_type": "markdown",
   "id": "84c920a3",
   "metadata": {},
   "source": [
    "### Introduction to Linear Regression "
   ]
  },
  {
   "cell_type": "markdown",
   "id": "c9b5e597",
   "metadata": {},
   "source": [
    "Linear Regression is one of the basic algorithms in machine learning. Linear Regression establishes a linear relationship between input features (X) and output labels (y).\n",
    "\n",
    "In linear regression, each output label is expressed as a linear function of input features which uses weights and biases. These weights and biases are the model parameters that are initialized randomly but then get updated through each cycle of training/learning through the dataset. Training the model and updating the parameters after going through a single iteration of training data is known as one epoch. So we have to train the model for several epochs so that weights and biases can learn the linear relationship between the input features and output labels."
   ]
  },
  {
   "cell_type": "markdown",
   "id": "db3ced55",
   "metadata": {},
   "source": [
    "Now let's understand it in detail with the help of an example, We will create a model that predicts crop yields for apples and oranges (*target variables*) by looking at the average temperature, rainfall, and humidity (*input variables or features*) in a region. Here's the training data:\n",
    "\n",
    "![linear-regression-training-data](https://i.imgur.com/6Ujttb4.png)\n",
    "\n",
    "In a linear regression model, each target variable is estimated to be a weighted sum of the input variables, offset by some constant, known as a bias :\n",
    "\n",
    "```\n",
    "yield_apple  = w11 * temp + w12 * rainfall + w13 * humidity + b1\n",
    "yield_orange = w21 * temp + w22 * rainfall + w23 * humidity + b2\n",
    "```\n",
    "\n",
    "Visually, it means that the yield of apples is a linear or planar function of temperature, rainfall and humidity:\n",
    "\n",
    "![linear-regression-graph](https://i.imgur.com/4DJ9f8X.png)"
   ]
  },
  {
   "cell_type": "markdown",
   "id": "480f8aa8",
   "metadata": {},
   "source": [
    "The *learning* part of linear regression is to figure out a set of weights `w11, w12,... w23, b1 and b2` using the training data to make accurate predictions for new data. The *learned* weights will be used to predict the yeilds for apples and oranges in a new region using the average temperature, rainfall, and humidity for that region.\n",
    "\n",
    "We will train our model by adjusiting the weights slightly many times to make better predictions, using an optimization technique called **gradient descent**. Let's begin by importing Numpy and PyTorch."
   ]
  },
  {
   "cell_type": "code",
   "execution_count": 20,
   "id": "5cab499b",
   "metadata": {},
   "outputs": [],
   "source": [
    "import numpy as np \n",
    "import torch "
   ]
  },
  {
   "cell_type": "markdown",
   "id": "0ef25da3",
   "metadata": {},
   "source": [
    "### Training data\n",
    "\n",
    "We can represent the training data using two matrices: `inputs` and `targets`, each with one row per observation, and one column per variable."
   ]
  },
  {
   "cell_type": "code",
   "execution_count": 21,
   "id": "be9616c1",
   "metadata": {},
   "outputs": [],
   "source": [
    "#Input (temp, rainffall, humidity)\n",
    "\n",
    "inputs = np.array([[73, 67, 43],\n",
    "                   [91, 88, 64],\n",
    "                   [87, 134, 58],\n",
    "                   [102, 43, 37],\n",
    "                   [69, 96, 70]],\n",
    "                   dtype='float32')"
   ]
  },
  {
   "cell_type": "code",
   "execution_count": 22,
   "id": "8b0ae0ad",
   "metadata": {},
   "outputs": [],
   "source": [
    "#Targets (apples, oranges)\n",
    "\n",
    "targets = np.array([[56, 70],\n",
    "                   [81, 101],\n",
    "                   [119, 133],\n",
    "                   [22, 37],\n",
    "                   [103, 119]],\n",
    "                   dtype='float32')"
   ]
  },
  {
   "cell_type": "markdown",
   "id": "0d3a6587",
   "metadata": {},
   "source": [
    "We have seperated the input and target variables because we will operate on them seperately. Also, we have created numpy arrays, because this typically how we work with taining data: read some CSV files as numpy arrays, do some processing and then convert them to PyTorch tensors.\n",
    "\n",
    "Now, let's convert the arrays to PyTorch tensors."
   ]
  },
  {
   "cell_type": "code",
   "execution_count": 23,
   "id": "7ea9bbff",
   "metadata": {},
   "outputs": [
    {
     "name": "stdout",
     "output_type": "stream",
     "text": [
      "tensor([[ 73.,  67.,  43.],\n",
      "        [ 91.,  88.,  64.],\n",
      "        [ 87., 134.,  58.],\n",
      "        [102.,  43.,  37.],\n",
      "        [ 69.,  96.,  70.]])\n",
      "tensor([[ 56.,  70.],\n",
      "        [ 81., 101.],\n",
      "        [119., 133.],\n",
      "        [ 22.,  37.],\n",
      "        [103., 119.]])\n"
     ]
    }
   ],
   "source": [
    "#Convert inputs and targets to tensors\n",
    "inputs = torch.from_numpy(inputs)\n",
    "targets = torch.from_numpy(targets)\n",
    "print(inputs)\n",
    "print(targets)"
   ]
  },
  {
   "cell_type": "markdown",
   "id": "d704e868",
   "metadata": {},
   "source": [
    "### Linear regression model from scratch \n",
    "\n",
    "The weights and biases(`w11, w12,... w23, b1 & b2`) can also be represented as matrices, initialized as random values. The first row of `w` and the first element of `b` are used to predict the first target variable,i.e., yield of apples, and similarly, the second for oranges.\n",
    "\n",
    "\n"
   ]
  },
  {
   "cell_type": "code",
   "execution_count": 24,
   "id": "2887a892",
   "metadata": {},
   "outputs": [
    {
     "name": "stdout",
     "output_type": "stream",
     "text": [
      "tensor([[ 0.3218, -0.4742,  0.1290],\n",
      "        [-1.5642,  0.6180,  0.4446]], requires_grad=True)\n",
      "tensor([0.0146, 0.0753], requires_grad=True)\n"
     ]
    }
   ],
   "source": [
    "# Weights and biases\n",
    "\n",
    "w = torch.randn(2,3, requires_grad= True)\n",
    "b = torch.rand(2, requires_grad=True)\n",
    "print(w)\n",
    "print(b)"
   ]
  },
  {
   "cell_type": "markdown",
   "id": "7fd499a6",
   "metadata": {},
   "source": [
    "`torch.randn` creates a tensor with the given shape, with elements picked randomly from a normal distribution with mean 0 and standard deviation 1.\n",
    "\n",
    "Our *model* is simply a function that performs a matrix multiplication of the `inputs` and the weights `w` (transposed) and adds the bias `b` (replicated for each observation).\n",
    "\n",
    "![matrix-mult](https://i.imgur.com/WGXLFvA.png)\n",
    "\n",
    "We can define the model as follows:"
   ]
  },
  {
   "cell_type": "code",
   "execution_count": 25,
   "id": "7e0ff7dc",
   "metadata": {},
   "outputs": [],
   "source": [
    "def model(x):\n",
    "    return x @ w.t() +b "
   ]
  },
  {
   "cell_type": "markdown",
   "id": "7025174f",
   "metadata": {},
   "source": [
    "`@` represents matrix multiplication in PyTorch, and the `.t` method return the transpose of a tensor. The matrix obtained by passin the input data into the model is a set of predictions for the targets vraibales. "
   ]
  },
  {
   "cell_type": "code",
   "execution_count": 26,
   "id": "45447d54",
   "metadata": {},
   "outputs": [
    {
     "name": "stdout",
     "output_type": "stream",
     "text": [
      "tensor([[  -2.7221,  -53.5889],\n",
      "        [  -4.1801,  -59.4300],\n",
      "        [ -28.0543,  -27.4153],\n",
      "        [  17.2162, -116.4494],\n",
      "        [ -14.2788,  -17.4061]], grad_fn=<AddBackward0>)\n"
     ]
    }
   ],
   "source": [
    "#Generate predictions\n",
    "preds = model(inputs)\n",
    "print(preds)"
   ]
  },
  {
   "cell_type": "markdown",
   "id": "860596c7",
   "metadata": {},
   "source": [
    "Let's compare the predictions of our model with the actual targets."
   ]
  },
  {
   "cell_type": "code",
   "execution_count": 27,
   "id": "2cfe663e",
   "metadata": {},
   "outputs": [
    {
     "data": {
      "text/plain": [
       "tensor([[ 56.,  70.],\n",
       "        [ 81., 101.],\n",
       "        [119., 133.],\n",
       "        [ 22.,  37.],\n",
       "        [103., 119.]])"
      ]
     },
     "execution_count": 27,
     "metadata": {},
     "output_type": "execute_result"
    }
   ],
   "source": [
    "# Compare with targets\n",
    "targets"
   ]
  },
  {
   "cell_type": "markdown",
   "id": "f6e35bf8",
   "metadata": {},
   "source": [
    "Here, we can see a big difference between our model's predictions and the actual targets because we've initialized our model with random weights and biases. Obviously, we can't expect a randomly initialized model to just work."
   ]
  },
  {
   "cell_type": "markdown",
   "id": "f8cd23d9",
   "metadata": {},
   "source": [
    "### Loss function\n",
    "\n",
    "Before we improve our model, we need a way to evaluate how well our model is performing. We can compare the model's predictions with the actual targets using the following method:\n",
    "\n",
    "* Calculate the difference between the two matrices (`preds` and `targets`).\n",
    "* Square all elements of the difference matrix to remove negative values.\n",
    "* Calculate the average of the elements in the resulting matrix.\n",
    "\n",
    "The result is a single number, known as the **mean squared error** (MSE)."
   ]
  },
  {
   "cell_type": "code",
   "execution_count": 28,
   "id": "83892da0",
   "metadata": {},
   "outputs": [],
   "source": [
    "#MSE loss\n",
    "def mse(t1, t2):\n",
    "    diff = t1 -t2\n",
    "    return torch.sum(diff*diff)/diff.numel()"
   ]
  },
  {
   "cell_type": "markdown",
   "id": "b2f6dc69",
   "metadata": {},
   "source": [
    "`torch.sum` returns the sum of all the elements in a tensor. The `.numel` method of a tensor returns the number of elements in a tensor. Let's compute the mean squared error for the current predictions of our model."
   ]
  },
  {
   "cell_type": "code",
   "execution_count": 29,
   "id": "e4e4f8f3",
   "metadata": {},
   "outputs": [
    {
     "data": {
      "text/plain": [
       "tensor(15500.4473, grad_fn=<DivBackward0>)"
      ]
     },
     "execution_count": 29,
     "metadata": {},
     "output_type": "execute_result"
    }
   ],
   "source": [
    "# Compute loss\n",
    "loss = mse(preds, targets)\n",
    "loss"
   ]
  },
  {
   "cell_type": "markdown",
   "id": "7cb54d6a",
   "metadata": {},
   "source": [
    "Here’s how we can interpret the result: *On average, each element in the prediction differs from the actual target by the square root of the loss*. And that’s pretty bad, considering the numbers we are trying to predict are themselves in the range 50–200. The result is called the *loss* because it indicates how bad the model is at predicting the target variables. It represents information loss in the model: the lower the loss, the better the model."
   ]
  },
  {
   "cell_type": "markdown",
   "id": "85456e1a",
   "metadata": {},
   "source": [
    "### Introduction to Gradient Descen"
   ]
  },
  {
   "cell_type": "markdown",
   "id": "9584d69e",
   "metadata": {},
   "source": [
    "The gradient descent algorithm is one of the most popular techniques for training deep neural networks. It has many applications in fields such as computer vision, speech recognition, and natural language processing. While the idea of gradient descent has been around for decades, it’s only recently that it’s been applied to applications related to deep learning.\n",
    "\n",
    "Gradient descent is an iterative optimization method used to find the minimum of an objective function by updating values iteratively on each step. With each iteration, it takes small steps towards the desired direction until convergence, or a stop criterion is met."
   ]
  },
  {
   "cell_type": "markdown",
   "id": "77397017",
   "metadata": {},
   "source": [
    "### Compute gradients\n",
    "\n",
    "With PyTorch, we can automatically compute the gradient or derivative of the loss w.r.t. to the weights and biases because they have `requires_grad` set to `True`. We'll see how this is useful in just a moment."
   ]
  },
  {
   "cell_type": "code",
   "execution_count": 30,
   "id": "a65a6a47",
   "metadata": {},
   "outputs": [],
   "source": [
    "# Compute gradients\n",
    "loss.backward()"
   ]
  },
  {
   "cell_type": "markdown",
   "id": "2f77f6a7",
   "metadata": {},
   "source": [
    "The gradient are stored in the `.grad` property of the respective tensors. Note that the derivtive of the loss w.r.t the weights matrix is itself a matrix with the same dimensions."
   ]
  },
  {
   "cell_type": "code",
   "execution_count": 31,
   "id": "af818780",
   "metadata": {},
   "outputs": [
    {
     "name": "stdout",
     "output_type": "stream",
     "text": [
      "tensor([[ 0.3218, -0.4742,  0.1290],\n",
      "        [-1.5642,  0.6180,  0.4446]], requires_grad=True)\n",
      "tensor([[ -6682.4023,  -8519.9941,  -4978.4482],\n",
      "        [-12528.2197, -12717.4512,  -8022.3965]])\n"
     ]
    }
   ],
   "source": [
    "# Gradient for weights\n",
    "print(w)\n",
    "print(w.grad)"
   ]
  },
  {
   "cell_type": "markdown",
   "id": "10400d30",
   "metadata": {},
   "source": [
    "### Adjust weights and biases to reduce the loss\n",
    "\n",
    "The loss is a [quadratic function](https://en.wikipedia.org/wiki/Quadratic_function) of our weights and biases, and our objective is to find the set of weights where the loss is the lowest. If we plot a graph of the loss w.r.t any individual weight or bias element, it will look like the figure shown below. An important insight from calculus is that the gradient indicates the rate of change of the loss, i.e., the loss function's [slope](https://en.wikipedia.org/wiki/Slope) w.r.t. the weights and biases.\n",
    "\n",
    "If a gradient element is **positive**:\n",
    "\n",
    "* **increasing** the weight element's value slightly will **increase** the loss\n",
    "* **decreasing** the weight element's value slightly will **decrease** the loss\n",
    "\n",
    "![postive-gradient](https://i.imgur.com/WLzJ4xP.png)\n",
    "\n",
    "If a gradient element is **negative**:\n",
    "\n",
    "* **increasing** the weight element's value slightly will **decrease** the loss\n",
    "* **decreasing** the weight element's value slightly will **increase** the loss\n",
    "\n",
    "![negative=gradient](https://i.imgur.com/dvG2fxU.png)\n",
    "\n",
    "The increase or decrease in the loss by changing a weight element is proportional to the gradient of the loss w.r.t. that element. This observation forms the basis of _the gradient descent_ optimization algorithm that we'll use to improve our model (by _descending_ along the _gradient_).\n",
    "\n",
    "We can subtract from each weight element a small quantity proportional to the derivative of the loss w.r.t. that element to reduce the loss slightly."
   ]
  },
  {
   "cell_type": "code",
   "execution_count": 32,
   "id": "469fc11e",
   "metadata": {},
   "outputs": [
    {
     "data": {
      "text/plain": [
       "tensor([[ -6682.4023,  -8519.9941,  -4978.4482],\n",
       "        [-12528.2197, -12717.4512,  -8022.3965]])"
      ]
     },
     "execution_count": 32,
     "metadata": {},
     "output_type": "execute_result"
    }
   ],
   "source": [
    "w\n",
    "w.grad"
   ]
  },
  {
   "cell_type": "code",
   "execution_count": 33,
   "id": "c9becad2",
   "metadata": {},
   "outputs": [],
   "source": [
    "with torch.no_grad():\n",
    "    w -= w.grad * 1e-5\n",
    "    b -= b.grad * 1e-5"
   ]
  },
  {
   "cell_type": "markdown",
   "id": "5d28c26c",
   "metadata": {},
   "source": [
    "We multiply the gradients with a very small number (`10^-5` in this case) to ensure that we don't modify the weights by a very large amount. We want to take a small step in the downhill direction of the gradient, not a giant leap. This number is called the *learning rate* of the algorithm. \n",
    "\n",
    "We use `torch.no_grad` to indicate to PyTorch that we shouldn't track, calculate, or modify gradients while updating the weights and biases."
   ]
  },
  {
   "cell_type": "code",
   "execution_count": 34,
   "id": "5193382d",
   "metadata": {},
   "outputs": [],
   "source": [
    "# Let's verify that the loss is actually lower\n",
    "loss = mse(preds, targets)"
   ]
  },
  {
   "cell_type": "code",
   "execution_count": 35,
   "id": "3b016abe",
   "metadata": {},
   "outputs": [
    {
     "data": {
      "text/plain": [
       "tensor(15500.4473, grad_fn=<DivBackward0>)"
      ]
     },
     "execution_count": 35,
     "metadata": {},
     "output_type": "execute_result"
    }
   ],
   "source": [
    "loss"
   ]
  },
  {
   "cell_type": "code",
   "execution_count": 36,
   "id": "a20b2dcc",
   "metadata": {},
   "outputs": [
    {
     "name": "stdout",
     "output_type": "stream",
     "text": [
      "tensor([[0., 0., 0.],\n",
      "        [0., 0., 0.]])\n",
      "tensor([0., 0.])\n"
     ]
    }
   ],
   "source": [
    "w.grad.zero_()\n",
    "b.grad.zero_()\n",
    "print(w.grad)\n",
    "print(b.grad)"
   ]
  },
  {
   "cell_type": "markdown",
   "id": "fc8c9571",
   "metadata": {},
   "source": [
    "### Train the model using gradient descent\n",
    "\n",
    "As seen above, we reduce the loss and improve our model using the gradient descent optimization algorithm. Thus, we can _train_ the model using the following steps:\n",
    "\n",
    "1. Generate predictions\n",
    "\n",
    "2. Calculate the loss\n",
    "\n",
    "3. Compute gradients w.r.t the weights and biases\n",
    "\n",
    "4. Adjust the weights by subtracting a small quantity proportional to the gradient\n",
    "\n",
    "5. Reset the gradients to zero\n",
    "\n",
    "Let's implement the above step by step."
   ]
  },
  {
   "cell_type": "code",
   "execution_count": 37,
   "id": "81a1801c",
   "metadata": {},
   "outputs": [
    {
     "data": {
      "text/plain": [
       "tensor([[ 10.0060, -32.4715],\n",
       "        [ 12.5855, -31.7021],\n",
       "        [ -7.9355,   5.1801],\n",
       "        [ 29.5387, -95.2323],\n",
       "        [  1.9970,   9.0643]], grad_fn=<AddBackward0>)"
      ]
     },
     "execution_count": 37,
     "metadata": {},
     "output_type": "execute_result"
    }
   ],
   "source": [
    "# Generate predictions\n",
    "preds = model(inputs)\n",
    "preds"
   ]
  },
  {
   "cell_type": "code",
   "execution_count": 38,
   "id": "172ffecb",
   "metadata": {},
   "outputs": [
    {
     "data": {
      "text/plain": [
       "tensor(10718.6465, grad_fn=<DivBackward0>)"
      ]
     },
     "execution_count": 38,
     "metadata": {},
     "output_type": "execute_result"
    }
   ],
   "source": [
    "# Calculate the loss \n",
    "loss = mse(preds, targets)\n",
    "loss"
   ]
  },
  {
   "cell_type": "code",
   "execution_count": 39,
   "id": "983e93fe",
   "metadata": {},
   "outputs": [
    {
     "name": "stdout",
     "output_type": "stream",
     "text": [
      "tensor([[ -5365.3853,  -7096.7090,  -4101.9604],\n",
      "        [-10349.9814, -10382.2129,  -6580.1729]])\n",
      "tensor([ -66.9617, -121.0323])\n"
     ]
    }
   ],
   "source": [
    "# Compute gradients\n",
    "loss.backward()\n",
    "print(w.grad)\n",
    "print(b.grad)"
   ]
  },
  {
   "cell_type": "markdown",
   "id": "8ae81a9a",
   "metadata": {},
   "source": [
    "Let's update the weights and biases using the gradients computed above."
   ]
  },
  {
   "cell_type": "code",
   "execution_count": 40,
   "id": "59c88bdb",
   "metadata": {},
   "outputs": [],
   "source": [
    "# Adjust weights & reset gradients\n",
    "with torch.no_grad():\n",
    "    w -= w.grad * 1e-5\n",
    "    b -= b.grad* 1e-5\n",
    "    w.grad.zero_()\n",
    "    b.grad.zero_()"
   ]
  },
  {
   "cell_type": "markdown",
   "id": "e2b7ac8f",
   "metadata": {},
   "source": [
    "Let's take a look at the new weights and baises."
   ]
  },
  {
   "cell_type": "code",
   "execution_count": 41,
   "id": "76de81b9",
   "metadata": {},
   "outputs": [
    {
     "name": "stdout",
     "output_type": "stream",
     "text": [
      "tensor([[ 0.4422, -0.3180,  0.2198],\n",
      "        [-1.3354,  0.8489,  0.5907]], requires_grad=True)\n",
      "tensor([0.0161, 0.0780], requires_grad=True)\n"
     ]
    }
   ],
   "source": [
    "print(w)\n",
    "print(b)"
   ]
  },
  {
   "cell_type": "markdown",
   "id": "e192d960",
   "metadata": {},
   "source": [
    "with the new weights and biases, the model should have a lowerloss."
   ]
  },
  {
   "cell_type": "code",
   "execution_count": 42,
   "id": "10e41caf",
   "metadata": {},
   "outputs": [
    {
     "data": {
      "text/plain": [
       "tensor(7492.8218, grad_fn=<DivBackward0>)"
      ]
     },
     "execution_count": 42,
     "metadata": {},
     "output_type": "execute_result"
    }
   ],
   "source": [
    "# Calculate loss \n",
    "preds = model(inputs)\n",
    "loss = mse(preds, targets)\n",
    "loss"
   ]
  },
  {
   "cell_type": "markdown",
   "id": "035adee7",
   "metadata": {},
   "source": [
    "We have already achieved a significant reduction in the loss merely by adjusting the weights and biases slightly using gradient descent."
   ]
  },
  {
   "cell_type": "markdown",
   "id": "4efe6651",
   "metadata": {},
   "source": [
    "### Train for multiple epochs\n",
    "\n",
    "To reduce the loss further, we can repeat the process of adjusting the weights and biases using the gradients multiple times. Each iteration is called an _epoch_. Let's train the model for 100 epochs."
   ]
  },
  {
   "cell_type": "code",
   "execution_count": 43,
   "id": "2817d708",
   "metadata": {},
   "outputs": [],
   "source": [
    "# Train for 100 epochs\n",
    "\n",
    "for i in range(100):\n",
    "    preds = model(inputs)\n",
    "    loss = mse(preds, targets)\n",
    "    loss.backward()\n",
    "    with torch.no_grad():\n",
    "        w -= w.grad * 1e-5\n",
    "        b -= b.grad * 1e-5\n",
    "        w.grad.zero_()\n",
    "        b.grad.zero_()\n"
   ]
  },
  {
   "cell_type": "markdown",
   "id": "de8c644a",
   "metadata": {},
   "source": [
    "Once again, let's verify that the loss is now lower:"
   ]
  },
  {
   "cell_type": "code",
   "execution_count": 44,
   "id": "ef3f2567",
   "metadata": {},
   "outputs": [
    {
     "data": {
      "text/plain": [
       "tensor(239.8171, grad_fn=<DivBackward0>)"
      ]
     },
     "execution_count": 44,
     "metadata": {},
     "output_type": "execute_result"
    }
   ],
   "source": [
    "# Calculate loss\n",
    "preds = model(inputs)\n",
    "loss = mse(preds, targets)\n",
    "loss"
   ]
  },
  {
   "cell_type": "code",
   "execution_count": 45,
   "id": "44a08cc8",
   "metadata": {},
   "outputs": [],
   "source": [
    "# Train for more 100 epochs\n",
    "\n",
    "for i in range(100):\n",
    "    preds = model(inputs)\n",
    "    loss = mse(preds, targets)\n",
    "    loss.backward()\n",
    "    with torch.no_grad():\n",
    "        w -= w.grad * 1e-5\n",
    "        b -= b.grad * 1e-5\n",
    "        w.grad.zero_()\n",
    "        b.grad.zero_()"
   ]
  },
  {
   "cell_type": "markdown",
   "id": "7fdd7626",
   "metadata": {},
   "source": [
    "Once again, let's verify that the loss is now lower:"
   ]
  },
  {
   "cell_type": "code",
   "execution_count": 46,
   "id": "e6c03ad6",
   "metadata": {},
   "outputs": [
    {
     "data": {
      "text/plain": [
       "tensor(68.5915, grad_fn=<DivBackward0>)"
      ]
     },
     "execution_count": 46,
     "metadata": {},
     "output_type": "execute_result"
    }
   ],
   "source": [
    "# Calculate loss\n",
    "preds = model(inputs)\n",
    "loss = mse(preds, targets)\n",
    "loss"
   ]
  },
  {
   "cell_type": "markdown",
   "id": "f275d5f2",
   "metadata": {},
   "source": [
    "The loss is now much lower than its initial value. Let's look at the model's predictions and compare them with the targets."
   ]
  },
  {
   "cell_type": "code",
   "execution_count": 47,
   "id": "9cf32986",
   "metadata": {},
   "outputs": [
    {
     "data": {
      "text/plain": [
       "tensor([[ 60.4624,  68.6376],\n",
       "        [ 83.5747,  98.8334],\n",
       "        [110.2814, 139.8232],\n",
       "        [ 40.1457,  27.1456],\n",
       "        [ 93.1775, 121.7190]], grad_fn=<AddBackward0>)"
      ]
     },
     "execution_count": 47,
     "metadata": {},
     "output_type": "execute_result"
    }
   ],
   "source": [
    "# Predictions\n",
    "preds"
   ]
  },
  {
   "cell_type": "code",
   "execution_count": 48,
   "id": "9b0c43e0",
   "metadata": {},
   "outputs": [
    {
     "data": {
      "text/plain": [
       "tensor([[ 56.,  70.],\n",
       "        [ 81., 101.],\n",
       "        [119., 133.],\n",
       "        [ 22.,  37.],\n",
       "        [103., 119.]])"
      ]
     },
     "execution_count": 48,
     "metadata": {},
     "output_type": "execute_result"
    }
   ],
   "source": [
    "# Targets\n",
    "targets"
   ]
  },
  {
   "cell_type": "markdown",
   "id": "27a6099c",
   "metadata": {},
   "source": [
    "The predictions are now much close to the target variables. We can get even better results by training for a few more epochs. "
   ]
  },
  {
   "cell_type": "markdown",
   "id": "ceee726d",
   "metadata": {},
   "source": [
    "## Linear regression using PyTorch built-ins\n",
    "\n",
    "We've implemented linear regression & gradient descent model using some basic tensor operations. However, since this is a common pattern in deep learning, PyTorch provides several built-in functions and classes to make it easy to create and train models with just a few lines of code.\n",
    "\n",
    "Let's begin by importing the `torch.nn` package from PyTorch, which contains utility classes for building neural networks."
   ]
  },
  {
   "cell_type": "code",
   "execution_count": 50,
   "id": "90841771",
   "metadata": {},
   "outputs": [],
   "source": [
    "import torch.nn as nn"
   ]
  },
  {
   "cell_type": "markdown",
   "id": "6d0ff936",
   "metadata": {},
   "source": [
    "As before, we represent the inputs and targets and matrices."
   ]
  },
  {
   "cell_type": "code",
   "execution_count": 51,
   "id": "38bb7cf4",
   "metadata": {},
   "outputs": [
    {
     "name": "stdout",
     "output_type": "stream",
     "text": [
      "tensor([[ 73.,  67.,  43.],\n",
      "        [ 91.,  88.,  64.],\n",
      "        [ 87., 134.,  58.],\n",
      "        [102.,  43.,  37.],\n",
      "        [ 69.,  96.,  70.],\n",
      "        [ 74.,  66.,  43.],\n",
      "        [ 91.,  87.,  65.],\n",
      "        [ 88., 134.,  59.],\n",
      "        [101.,  44.,  37.],\n",
      "        [ 68.,  96.,  71.],\n",
      "        [ 73.,  66.,  44.],\n",
      "        [ 92.,  87.,  64.],\n",
      "        [ 87., 135.,  57.],\n",
      "        [103.,  43.,  36.],\n",
      "        [ 68.,  97.,  70.]])\n",
      "tensor([[ 56.,  70.],\n",
      "        [ 81., 101.],\n",
      "        [119., 133.],\n",
      "        [ 22.,  37.],\n",
      "        [103., 119.],\n",
      "        [ 57.,  69.],\n",
      "        [ 80., 102.],\n",
      "        [118., 132.],\n",
      "        [ 21.,  38.],\n",
      "        [104., 118.],\n",
      "        [ 57.,  69.],\n",
      "        [ 82., 100.],\n",
      "        [118., 134.],\n",
      "        [ 20.,  38.],\n",
      "        [102., 120.]])\n"
     ]
    }
   ],
   "source": [
    "# Input (temp, rainfall, humidity)\n",
    "inputs = np.array([[73, 67, 43], \n",
    "                   [91, 88, 64], \n",
    "                   [87, 134, 58], \n",
    "                   [102, 43, 37], \n",
    "                   [69, 96, 70], \n",
    "                   [74, 66, 43], \n",
    "                   [91, 87, 65], \n",
    "                   [88, 134, 59], \n",
    "                   [101, 44, 37], \n",
    "                   [68, 96, 71], \n",
    "                   [73, 66, 44], \n",
    "                   [92, 87, 64], \n",
    "                   [87, 135, 57], \n",
    "                   [103, 43, 36], \n",
    "                   [68, 97, 70]], \n",
    "                  dtype='float32')\n",
    "\n",
    "# Targets (apples, oranges)\n",
    "targets = np.array([[56, 70], \n",
    "                    [81, 101], \n",
    "                    [119, 133], \n",
    "                    [22, 37], \n",
    "                    [103, 119],\n",
    "                    [57, 69], \n",
    "                    [80, 102], \n",
    "                    [118, 132], \n",
    "                    [21, 38], \n",
    "                    [104, 118], \n",
    "                    [57, 69], \n",
    "                    [82, 100], \n",
    "                    [118, 134], \n",
    "                    [20, 38], \n",
    "                    [102, 120]], \n",
    "                   dtype='float32')\n",
    "\n",
    "inputs = torch.from_numpy(inputs)\n",
    "targets = torch.from_numpy(targets)\n",
    "print(inputs)\n",
    "print(targets)"
   ]
  },
  {
   "cell_type": "markdown",
   "id": "72fcfdd4",
   "metadata": {},
   "source": [
    "We are using 15 training examples to illustrate how to work with large datasets in small batches. "
   ]
  },
  {
   "cell_type": "markdown",
   "id": "09aeb6eb",
   "metadata": {},
   "source": [
    "### Dataset and DataLoader\n",
    "\n",
    "We'll create a `TensorDataset`, which allows access to rows from `inputs` and `targets` as tuples, and provides standard APIs for working with many different types of datasets in PyTorch."
   ]
  },
  {
   "cell_type": "code",
   "execution_count": 53,
   "id": "4173a45c",
   "metadata": {},
   "outputs": [],
   "source": [
    "from torch.utils.data import TensorDataset"
   ]
  },
  {
   "cell_type": "code",
   "execution_count": 54,
   "id": "7e16e984",
   "metadata": {},
   "outputs": [
    {
     "data": {
      "text/plain": [
       "(tensor([[ 73.,  67.,  43.],\n",
       "         [ 91.,  88.,  64.],\n",
       "         [ 87., 134.,  58.],\n",
       "         [102.,  43.,  37.]]),\n",
       " tensor([[ 56.,  70.],\n",
       "         [ 81., 101.],\n",
       "         [119., 133.],\n",
       "         [ 22.,  37.]]))"
      ]
     },
     "execution_count": 54,
     "metadata": {},
     "output_type": "execute_result"
    }
   ],
   "source": [
    "# Define dataset\n",
    "train_ds = TensorDataset(inputs, targets)\n",
    "train_ds[:4]"
   ]
  },
  {
   "cell_type": "markdown",
   "id": "937a5984",
   "metadata": {},
   "source": [
    "The `TensorDataset` allows us to access a small section of the training data using the array indexing notation (`[:4]` in the above code). It returns a tuple with two elements. The first element contains the input variables for the selected rows, and the second contains the targets."
   ]
  },
  {
   "cell_type": "markdown",
   "id": "97d8a4e1",
   "metadata": {},
   "source": [
    "We'll also create a `DataLoader`, which can split the data into batches of a predefined size while training. It also provides other utilities like shuffling and random sampling of the data."
   ]
  },
  {
   "cell_type": "code",
   "execution_count": 55,
   "id": "0346efb8",
   "metadata": {},
   "outputs": [],
   "source": [
    "from torch.utils.data import DataLoader"
   ]
  },
  {
   "cell_type": "code",
   "execution_count": 58,
   "id": "4dbd46c5",
   "metadata": {},
   "outputs": [],
   "source": [
    "batch_size = 5\n",
    "train_dl = DataLoader(train_ds, batch_size, shuffle = True)"
   ]
  },
  {
   "cell_type": "markdown",
   "id": "c1aa9d19",
   "metadata": {},
   "source": [
    "We can use the data loader in a `for` loop. Let's look at an example"
   ]
  },
  {
   "cell_type": "code",
   "execution_count": 60,
   "id": "1fd42467",
   "metadata": {},
   "outputs": [
    {
     "name": "stdout",
     "output_type": "stream",
     "text": [
      "tensor([[ 91.,  88.,  64.],\n",
      "        [ 68.,  97.,  70.],\n",
      "        [ 73.,  67.,  43.],\n",
      "        [ 87., 135.,  57.],\n",
      "        [101.,  44.,  37.]])\n",
      "tensor([[ 81., 101.],\n",
      "        [102., 120.],\n",
      "        [ 56.,  70.],\n",
      "        [118., 134.],\n",
      "        [ 21.,  38.]])\n"
     ]
    }
   ],
   "source": [
    "for xb, yb in train_dl:\n",
    "    print(xb)\n",
    "    print(yb)\n",
    "    break"
   ]
  },
  {
   "cell_type": "markdown",
   "id": "57be8692",
   "metadata": {},
   "source": [
    "In each iteration, the data loader returns one batch of data with the given batch size. If `shuffle` is set to `True`, it shuffles the training data before creating batches. Shuffling helps randomize the input to the optimization algorithm, leading to a faster reduction in the loss."
   ]
  },
  {
   "cell_type": "markdown",
   "id": "ca260a7b",
   "metadata": {},
   "source": [
    "### nn.Linear\n",
    "\n",
    "Instead of initializing the weights & biases manually, we can define the model using the `nn.Linear` class from PyTorch, which does it automatically."
   ]
  },
  {
   "cell_type": "code",
   "execution_count": 61,
   "id": "9306dba3",
   "metadata": {},
   "outputs": [
    {
     "name": "stdout",
     "output_type": "stream",
     "text": [
      "Parameter containing:\n",
      "tensor([[ 0.0835,  0.4807, -0.5032],\n",
      "        [ 0.2007,  0.0087,  0.0737]], requires_grad=True)\n",
      "Parameter containing:\n",
      "tensor([ 0.0411, -0.5110], requires_grad=True)\n"
     ]
    }
   ],
   "source": [
    "# Define model\n",
    "model = nn.Linear(3,2)\n",
    "print(model.weight)\n",
    "print(model.bias)"
   ]
  },
  {
   "cell_type": "markdown",
   "id": "af03240c",
   "metadata": {},
   "source": [
    "PyTorch models also have a helpful `.parameters` method, which returns a list containing all the weights and bias matrices present in the model. For our linear regression model, we have one weight matrix and one bias matrix."
   ]
  },
  {
   "cell_type": "code",
   "execution_count": 62,
   "id": "43bf6661",
   "metadata": {},
   "outputs": [
    {
     "data": {
      "text/plain": [
       "[Parameter containing:\n",
       " tensor([[ 0.0835,  0.4807, -0.5032],\n",
       "         [ 0.2007,  0.0087,  0.0737]], requires_grad=True),\n",
       " Parameter containing:\n",
       " tensor([ 0.0411, -0.5110], requires_grad=True)]"
      ]
     },
     "execution_count": 62,
     "metadata": {},
     "output_type": "execute_result"
    }
   ],
   "source": [
    "# Parameters\n",
    "list(model.parameters())"
   ]
  },
  {
   "cell_type": "markdown",
   "id": "e8f2de09",
   "metadata": {},
   "source": [
    "We can use the model to generate predictions in the same way as before."
   ]
  },
  {
   "cell_type": "code",
   "execution_count": 63,
   "id": "7fb05051",
   "metadata": {},
   "outputs": [
    {
     "data": {
      "text/plain": [
       "tensor([[16.7043, 17.8931],\n",
       "        [17.7342, 23.2366],\n",
       "        [42.5337, 22.3921],\n",
       "        [10.6063, 23.0620],\n",
       "        [16.7246, 19.3332],\n",
       "        [16.3070, 18.0851],\n",
       "        [16.7502, 23.3016],\n",
       "        [42.1140, 22.6665],\n",
       "        [11.0036, 22.8700],\n",
       "        [16.1379, 19.2062],\n",
       "        [15.7203, 17.9581],\n",
       "        [17.3369, 23.4286],\n",
       "        [43.5177, 22.3270],\n",
       "        [11.1930, 23.1890],\n",
       "        [17.1218, 19.1412]], grad_fn=<AddmmBackward0>)"
      ]
     },
     "execution_count": 63,
     "metadata": {},
     "output_type": "execute_result"
    }
   ],
   "source": [
    "# Generate predictions\n",
    "preds = model(inputs)\n",
    "preds"
   ]
  },
  {
   "cell_type": "markdown",
   "id": "32957707",
   "metadata": {},
   "source": [
    "### Loss Function\n",
    "\n",
    "Instead of defining a loss function manually, we can use the built-in loss function `mse_loss`."
   ]
  },
  {
   "cell_type": "code",
   "execution_count": 65,
   "id": "cfe85d65",
   "metadata": {},
   "outputs": [],
   "source": [
    "# Import nn. functional\n",
    "import torch.nn.functional as F"
   ]
  },
  {
   "cell_type": "markdown",
   "id": "4e212af8",
   "metadata": {},
   "source": [
    "The `nn.functional` package contains many useful loss functions and several other utilities. "
   ]
  },
  {
   "cell_type": "code",
   "execution_count": 66,
   "id": "c47b06e1",
   "metadata": {},
   "outputs": [],
   "source": [
    "# Define loss function \n",
    "loss_fn = F.mse_loss"
   ]
  },
  {
   "cell_type": "markdown",
   "id": "6f7d7276",
   "metadata": {},
   "source": [
    "Let's compute the loss for the current predictions of our model."
   ]
  },
  {
   "cell_type": "code",
   "execution_count": 67,
   "id": "4764f855",
   "metadata": {},
   "outputs": [
    {
     "data": {
      "text/plain": [
       "tensor(5003.3584, grad_fn=<MseLossBackward0>)"
      ]
     },
     "execution_count": 67,
     "metadata": {},
     "output_type": "execute_result"
    }
   ],
   "source": [
    "loss = loss_fn(model(inputs), targets)\n",
    "loss"
   ]
  },
  {
   "cell_type": "markdown",
   "id": "b6f31639",
   "metadata": {},
   "source": [
    "### Optimizer\n",
    "\n",
    "Instead of manually manipulating the model's weights & biases using gradients, we can use the optimizer `optim.SGD`. SGD is short for \"stochastic gradient descent\". The term _stochastic_ indicates that samples are selected in random batches instead of as a single group."
   ]
  },
  {
   "cell_type": "code",
   "execution_count": 68,
   "id": "8cdcea4a",
   "metadata": {},
   "outputs": [],
   "source": [
    "# Define optimizer\n",
    "opt = torch.optim.SGD(model.parameters(), lr=1e-5)"
   ]
  },
  {
   "cell_type": "markdown",
   "id": "ab8123cf",
   "metadata": {},
   "source": [
    "Note that `model.parameters()` is passed as an argument to `optim.SGD` so that the optimizer knows which matrices should be modified during the update step. Also, we can specify a learning rate that controls the amount by which the parameters are modified."
   ]
  },
  {
   "cell_type": "markdown",
   "id": "470d9d9c",
   "metadata": {},
   "source": [
    "### Train the model\n",
    "\n",
    "We are now ready to train the model. We'll follow the same process to implement gradient descent:\n",
    "\n",
    "1. Generate predictions\n",
    "\n",
    "2. Calculate the loss\n",
    "\n",
    "3. Compute gradients w.r.t the weights and biases\n",
    "\n",
    "4. Adjust the weights by subtracting a small quantity proportional to the gradient\n",
    "\n",
    "5. Reset the gradients to zero\n",
    "\n",
    "The only change is that we'll work batches of data instead of processing the entire training data in every iteration. Let's define a utility function `fit` that trains the model for a given number of epochs."
   ]
  },
  {
   "cell_type": "code",
   "execution_count": 69,
   "id": "309598ef",
   "metadata": {},
   "outputs": [],
   "source": [
    "# Utility function to train the model\n",
    "def fit(num_epochs, model, loss_fn, opt, train_dl):\n",
    "    \n",
    "    #Repeat for given number of epochs\n",
    "    for epoch in range(num_epochs):\n",
    "        \n",
    "        # Train with batches of data\n",
    "        for xb, yb in train_dl:\n",
    "            \n",
    "            \n",
    "            # 1. Generate predictions\n",
    "            pred = model(xb)\n",
    "            \n",
    "            # 2. Calculate loss\n",
    "            loss = loss_fn(pred, yb)\n",
    "            \n",
    "            # 3. Compute gradients\n",
    "            loss.backward()\n",
    "            \n",
    "            # 4. Update parameters using gradients\n",
    "            opt.step()\n",
    "            \n",
    "            # 5. Reset the gradient to zero \n",
    "            \n",
    "            opt.zero_grad()\n",
    "            \n",
    "        # Print the progress\n",
    "        if (epoch+1) % 10 == 0:\n",
    "            print('Epoch [{}/{}], Loss: {:.4f}' .format(epoch+1, num_epochs, loss.item()))"
   ]
  },
  {
   "cell_type": "markdown",
   "id": "bdb93e74",
   "metadata": {},
   "source": [
    "Some things to note above:\n",
    "\n",
    "* We use the data loader defined earlier to get batches of data for every iteration.\n",
    "\n",
    "* Instead of updating parameters (weights and biases) manually, we use `opt.step` to perform the update and `opt.zero_grad` to reset the gradients to zero.\n",
    "\n",
    "* We've also added a log statement that prints the loss from the last batch of data for every 10th epoch to track training progress. `loss.item` returns the actual value stored in the loss tensor.\n",
    "\n",
    "Let's train the model for 100 epochs."
   ]
  },
  {
   "cell_type": "code",
   "execution_count": 70,
   "id": "c0c5ac8d",
   "metadata": {
    "scrolled": true
   },
   "outputs": [
    {
     "name": "stdout",
     "output_type": "stream",
     "text": [
      "Epoch [10/150], Loss: 629.7085\n",
      "Epoch [20/150], Loss: 503.9662\n",
      "Epoch [30/150], Loss: 275.3478\n",
      "Epoch [40/150], Loss: 152.7263\n",
      "Epoch [50/150], Loss: 118.1317\n",
      "Epoch [60/150], Loss: 99.7144\n",
      "Epoch [70/150], Loss: 31.3561\n",
      "Epoch [80/150], Loss: 65.3587\n",
      "Epoch [90/150], Loss: 82.6656\n",
      "Epoch [100/150], Loss: 49.7842\n",
      "Epoch [110/150], Loss: 47.7007\n",
      "Epoch [120/150], Loss: 32.4631\n",
      "Epoch [130/150], Loss: 38.1313\n",
      "Epoch [140/150], Loss: 48.7792\n",
      "Epoch [150/150], Loss: 44.0983\n"
     ]
    }
   ],
   "source": [
    "fit(150, model, loss_fn, opt, train_dl)"
   ]
  },
  {
   "cell_type": "code",
   "execution_count": 71,
   "id": "3f8b706f",
   "metadata": {},
   "outputs": [
    {
     "name": "stdout",
     "output_type": "stream",
     "text": [
      "Epoch [10/150], Loss: 20.9967\n",
      "Epoch [20/150], Loss: 9.9297\n",
      "Epoch [30/150], Loss: 22.3360\n",
      "Epoch [40/150], Loss: 16.0499\n",
      "Epoch [50/150], Loss: 15.6234\n",
      "Epoch [60/150], Loss: 27.4651\n",
      "Epoch [70/150], Loss: 19.2965\n",
      "Epoch [80/150], Loss: 12.5596\n",
      "Epoch [90/150], Loss: 14.5484\n",
      "Epoch [100/150], Loss: 15.6047\n",
      "Epoch [110/150], Loss: 9.5797\n",
      "Epoch [120/150], Loss: 22.9910\n",
      "Epoch [130/150], Loss: 20.1393\n",
      "Epoch [140/150], Loss: 18.3676\n",
      "Epoch [150/150], Loss: 14.3038\n"
     ]
    }
   ],
   "source": [
    "fit(150, model, loss_fn, opt, train_dl)"
   ]
  },
  {
   "cell_type": "markdown",
   "id": "1eabae97",
   "metadata": {},
   "source": [
    "Let's generate predictions using our model and verify that they're close to our targets."
   ]
  },
  {
   "cell_type": "code",
   "execution_count": 72,
   "id": "76ee2f6b",
   "metadata": {},
   "outputs": [],
   "source": [
    "# Generate predictions\n",
    "preds = model(inputs)"
   ]
  },
  {
   "cell_type": "code",
   "execution_count": 73,
   "id": "a7290958",
   "metadata": {},
   "outputs": [
    {
     "data": {
      "text/plain": [
       "tensor([[ 57.3446,  70.5460],\n",
       "        [ 79.1291,  99.0933],\n",
       "        [124.4024, 136.0761],\n",
       "        [ 22.5561,  38.7825],\n",
       "        [ 95.7866, 115.2688],\n",
       "        [ 56.0365,  69.4417],\n",
       "        [ 78.4386,  98.9045],\n",
       "        [124.3982, 136.5293],\n",
       "        [ 23.8641,  39.8868],\n",
       "        [ 96.4042, 116.1842],\n",
       "        [ 56.6541,  70.3572],\n",
       "        [ 77.8210,  97.9891],\n",
       "        [125.0929, 136.2649],\n",
       "        [ 21.9385,  37.8671],\n",
       "        [ 97.0947, 116.3730]], grad_fn=<AddmmBackward0>)"
      ]
     },
     "execution_count": 73,
     "metadata": {},
     "output_type": "execute_result"
    }
   ],
   "source": [
    "preds"
   ]
  },
  {
   "cell_type": "code",
   "execution_count": 74,
   "id": "cab2fe35",
   "metadata": {},
   "outputs": [
    {
     "data": {
      "text/plain": [
       "tensor([[ 56.,  70.],\n",
       "        [ 81., 101.],\n",
       "        [119., 133.],\n",
       "        [ 22.,  37.],\n",
       "        [103., 119.],\n",
       "        [ 57.,  69.],\n",
       "        [ 80., 102.],\n",
       "        [118., 132.],\n",
       "        [ 21.,  38.],\n",
       "        [104., 118.],\n",
       "        [ 57.,  69.],\n",
       "        [ 82., 100.],\n",
       "        [118., 134.],\n",
       "        [ 20.,  38.],\n",
       "        [102., 120.]])"
      ]
     },
     "execution_count": 74,
     "metadata": {},
     "output_type": "execute_result"
    }
   ],
   "source": [
    "# COmpare with targets\n",
    "targets"
   ]
  },
  {
   "cell_type": "markdown",
   "id": "be91985d",
   "metadata": {},
   "source": [
    "Indeed, the predictions are quite close to our targets. We have a trained a reasonably good model to predict crop yields for apples and oranges by looking at the average temperature, rainfall, and humidity in a region. We can use it to make predictions of crop yields for new regions by passing a batch containing a single row of input."
   ]
  },
  {
   "cell_type": "code",
   "execution_count": 75,
   "id": "266b3fca",
   "metadata": {},
   "outputs": [
    {
     "data": {
      "text/plain": [
       "tensor([[53.0408, 67.2755]], grad_fn=<AddmmBackward0>)"
      ]
     },
     "execution_count": 75,
     "metadata": {},
     "output_type": "execute_result"
    }
   ],
   "source": [
    "model(torch.tensor([[75, 63, 44.]]))"
   ]
  },
  {
   "cell_type": "markdown",
   "id": "2b5484a0",
   "metadata": {},
   "source": [
    "The predicted yield of apples is 53.0 tons per hectare, and that of oranges is 67.27 tons per hectare."
   ]
  },
  {
   "cell_type": "markdown",
   "id": "90766ad9",
   "metadata": {},
   "source": [
    "## Machine Learning vs. Classical Programming\n",
    "\n",
    "The approach we've taken in this tutorial is very different from programming as you might know it. Usually, we write programs that take some inputs, perform some operations, and return a result. \n",
    "\n",
    "However, in this notebook, we've defined a \"model\" that assumes a specific relationship between the inputs and the outputs, expressed using some unknown parameters (weights & biases). We then show the model some know inputs and outputs and _train_ the model to come up with good values for the unknown parameters. Once trained, the model can be used to compute the outputs for new inputs.\n",
    "\n",
    "This paradigm of programming is known as _machine learning_, where we use data to figure out the relationship between inputs and outputs. _Deep learning_ is a branch of machine learning that uses matrix operations, non-linear activation functions and gradient descent to build and train models. Andrej Karpathy, the director of AI at Tesla Motors, has written a great blog post on this topics, titled [Software 2.0](https://medium.com/@karpathy/software-2-0-a64152b37c35).\n",
    "\n",
    "This picture from book [Deep Learning with Python](https://www.manning.com/books/deep-learning-with-python) by Francois Chollet captures the difference between classical programming and machine learning:\n",
    "\n",
    "![](https://i.imgur.com/oJEQe7k.png)\n",
    "\n",
    "Keep this picture in mind as you work through the next few tutorials. \n"
   ]
  },
  {
   "cell_type": "code",
   "execution_count": null,
   "id": "b167ea83",
   "metadata": {},
   "outputs": [],
   "source": []
  },
  {
   "cell_type": "code",
   "execution_count": null,
   "id": "80291425",
   "metadata": {},
   "outputs": [],
   "source": []
  },
  {
   "cell_type": "code",
   "execution_count": null,
   "id": "5f0c98c9",
   "metadata": {},
   "outputs": [],
   "source": []
  },
  {
   "cell_type": "code",
   "execution_count": null,
   "id": "86594448",
   "metadata": {},
   "outputs": [],
   "source": []
  },
  {
   "cell_type": "code",
   "execution_count": null,
   "id": "2cf09b0e",
   "metadata": {},
   "outputs": [],
   "source": []
  }
 ],
 "metadata": {
  "kernelspec": {
   "display_name": "Python 3 (ipykernel)",
   "language": "python",
   "name": "python3"
  },
  "language_info": {
   "codemirror_mode": {
    "name": "ipython",
    "version": 3
   },
   "file_extension": ".py",
   "mimetype": "text/x-python",
   "name": "python",
   "nbconvert_exporter": "python",
   "pygments_lexer": "ipython3",
   "version": "3.11.5"
  }
 },
 "nbformat": 4,
 "nbformat_minor": 5
}
